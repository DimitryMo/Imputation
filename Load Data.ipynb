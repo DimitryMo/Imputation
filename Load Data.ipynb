{
 "cells": [
  {
   "cell_type": "code",
   "execution_count": null,
   "metadata": {},
   "outputs": [],
   "source": [
    "import requests\n",
    "import pandas as pd\n",
    "from tqdm.notebook import tqdm\n",
    "import numpy as np\n",
    "import matplotlib.pyplot as plt\n",
    "import seaborn as sns"
   ]
  },
  {
   "cell_type": "markdown",
   "metadata": {},
   "source": [
    "# Government bond prices"
   ]
  },
  {
   "cell_type": "code",
   "execution_count": null,
   "metadata": {},
   "outputs": [],
   "source": [
    "dates = pd.date_range(start='2017-01-01', end='2020-12-01')"
   ]
  },
  {
   "cell_type": "code",
   "execution_count": null,
   "metadata": {},
   "outputs": [],
   "source": [
    "def get_prices(date, i):\n",
    "    base = 'https://iss.moex.com/iss/history/engines/stock/markets/bonds/boards/TQOB/securities.json?date='\n",
    "    url = f'{base}{date}'\n",
    "    try:\n",
    "        resp = requests.get(url).json()\n",
    "        df = pd.DataFrame(resp['history']['data'], columns=resp['history']['metadata'])\n",
    "        df['DATE'] = [date for i in range(len(df))]\n",
    "        return df\n",
    "    except:\n",
    "        print('oops', i)"
   ]
  },
  {
   "cell_type": "code",
   "execution_count": null,
   "metadata": {},
   "outputs": [],
   "source": [
    "df_main = pd.DataFrame()\n",
    "\n",
    "for i, date in tqdm(enumerate(dates)):\n",
    "    df_main = df_main.append(get_prices(date, i))"
   ]
  },
  {
   "cell_type": "markdown",
   "metadata": {},
   "source": [
    "# Specifications of government bonds"
   ]
  },
  {
   "cell_type": "code",
   "execution_count": null,
   "metadata": {},
   "outputs": [],
   "source": [
    "def get_instr(id_):\n",
    "    url = f'https://iss.moex.com/iss/securities/{id_}.json' \n",
    "    response = requests.get(url).json()\n",
    "    info = []\n",
    "    info.append(id_)\n",
    "    columns = np.array(response['description']['data'])[:,0]\n",
    "    row = np.array(response['description']['data'])[:,2]\n",
    "    mat_ind = np.where(columns == 'MATDATE')\n",
    "    mat_data = row[mat_ind][0]\n",
    "    volume_ind = np.where(columns == 'ISSUESIZE')\n",
    "    volume_data = row[volume_ind][0]\n",
    "    coupon_ind = np.where(columns == 'COUPONFREQUENCY')\n",
    "    coupon_data = row[coupon_ind][0]\n",
    "    info.append(mat_data)\n",
    "    info.append(volume_data)\n",
    "    info.append(coupon_data)\n",
    "    return info"
   ]
  },
  {
   "cell_type": "code",
   "execution_count": null,
   "metadata": {},
   "outputs": [],
   "source": [
    "sec_data = []\n",
    "\n",
    "for sec_id in tqdm(data['SECID'].unique()):\n",
    "    sec_data.append(get_instr(sec_id))"
   ]
  },
  {
   "cell_type": "markdown",
   "metadata": {},
   "source": [
    "# VIX "
   ]
  },
  {
   "cell_type": "code",
   "execution_count": null,
   "metadata": {},
   "outputs": [],
   "source": [
    "def get_vix(index_name, start):\n",
    "    url = f'https://iss.moex.com/iss/history/engines/stock/markets/index/securities/{index_name}.json?from=2015-01-01&start={start}'\n",
    "    resp = requests.get(url).json()\n",
    "    df = pd.DataFrame(resp['history']['data'], columns=resp['history']['columns'])\n",
    "    df['DELTA'] = (df['CLOSE'] - df['OPEN'])/df['OPEN']\n",
    "    return df[['TRADEDATE', 'CLOSE', 'DELTA']]"
   ]
  },
  {
   "cell_type": "code",
   "execution_count": null,
   "metadata": {},
   "outputs": [],
   "source": [
    "df_vix = pd.DataFrame(columns = ['TRADEDATE', 'CLOSE', 'DELTA'])\n",
    "\n",
    "for start in tqdm(np.arange(0, 5000, 100)):\n",
    "    df_vix = df_vix.append(get_vix('RVI', start), ignore_index=True)"
   ]
  },
  {
   "cell_type": "markdown",
   "metadata": {},
   "source": [
    "# Exchange rates"
   ]
  },
  {
   "cell_type": "code",
   "execution_count": null,
   "metadata": {},
   "outputs": [],
   "source": [
    "def get_dollas(start):\n",
    "    url = f'https://iss.moex.com/iss/history/engines/stock/markets/index/securities/{index_name}.json?from=2015-01-01&start={start}'\n",
    "    resp = requests.get(url).json()\n",
    "    df = pd.DataFrame(resp['securities']['data'], columns = resp['securities']['columns'])\n",
    "    return df[['tradedate', 'rate']]"
   ]
  },
  {
   "cell_type": "markdown",
   "metadata": {},
   "source": [
    "# Corporate bond prices"
   ]
  },
  {
   "cell_type": "code",
   "execution_count": null,
   "metadata": {},
   "outputs": [],
   "source": [
    "def get_prices(date):\n",
    "    base = 'https://iss.moex.com/iss/history/engines/stock/markets/bonds/securities.json?date='\n",
    "    start = 0\n",
    "    url = f'{base}{date}&start={start}'\n",
    "    resp = requests.get(url).json()\n",
    "    df = pd.DataFrame()\n",
    "    while resp['history']['data']:\n",
    "        df = df.append(pd.DataFrame(resp['history']['data'], columns=resp['history']['columns']))\n",
    "        start += 100\n",
    "        url = f'{base}{date}&start={start}'\n",
    "        resp = requests.get(url).json()\n",
    "    return df"
   ]
  },
  {
   "cell_type": "code",
   "execution_count": null,
   "metadata": {},
   "outputs": [],
   "source": [
    "df_main = pd.DataFrame()\n",
    "for date in tqdm(pd.date_range(start='2015-01-01', end='2017-01-01', freq='1D')):\n",
    "    df_main = df_main.append(get_prices(date))"
   ]
  },
  {
   "cell_type": "markdown",
   "metadata": {},
   "source": [
    "# Bond specifications"
   ]
  },
  {
   "cell_type": "code",
   "execution_count": null,
   "metadata": {},
   "outputs": [],
   "source": [
    "big_df = pd.read_csv('CORP_prices.csv')"
   ]
  },
  {
   "cell_type": "code",
   "execution_count": null,
   "metadata": {},
   "outputs": [],
   "source": [
    "def get_info(id_):\n",
    "    url = f'https://iss.moex.com/iss/securities/{id_}.json'\n",
    "    resp = requests.get(url).json()\n",
    "    df = pd.DataFrame(resp['description']['data'], columns=resp['description']['columns']).set_index('name')\n",
    "    \n",
    "    try:\n",
    "        qual = df.loc['ISQUALIFIEDINVESTORS']['value']\n",
    "    except:\n",
    "        qual = np.nan\n",
    "    \n",
    "    try:\n",
    "        list_level = df.loc['LISTLEVEL']['value']\n",
    "    except:\n",
    "        list_level = np.nan\n",
    "    \n",
    "    try:\n",
    "        type_name = df.loc['TYPE']['value']\n",
    "    except:\n",
    "        type_name = np.nan\n",
    "    \n",
    "    try:\n",
    "        issue_size = df.loc['ISSUESIZE']['value']\n",
    "    except:\n",
    "        issue_size = np.nan\n",
    "        \n",
    "    try:\n",
    "        coupon_freq = df.loc['COUPONFREQUENCY']['value']\n",
    "    except:\n",
    "        coupon_freq = np.nan\n",
    "        \n",
    "    return [id_, qual, list_level, type_name, issue_size, coupon_freq]"
   ]
  },
  {
   "cell_type": "code",
   "execution_count": null,
   "metadata": {},
   "outputs": [],
   "source": [
    "def get_matdate(id_):\n",
    "    url = f'https://iss.moex.com/iss/securities/{id_}.json'\n",
    "    resp = requests.get(url).json()\n",
    "    df = pd.DataFrame(resp['description']['data'], columns=resp['description']['columns']).set_index('name')\n",
    "   \n",
    "    try:\n",
    "        matdate = df.loc['MATDATE']['value']\n",
    "    except:\n",
    "        matdate = np.nan\n",
    "        \n",
    "    return [id_, matdate]"
   ]
  },
  {
   "cell_type": "code",
   "execution_count": null,
   "metadata": {},
   "outputs": [],
   "source": [
    "info = []\n",
    "for id_ in tqdm(df_main['SECID'].unique()):\n",
    "    info.append(get_info(id_))"
   ]
  },
  {
   "cell_type": "code",
   "execution_count": null,
   "metadata": {},
   "outputs": [],
   "source": [
    "info = []\n",
    "for id_ in tqdm(df_main['SECID'].unique()):\n",
    "    info.append(get_matdate(id_))"
   ]
  },
  {
   "cell_type": "markdown",
   "metadata": {},
   "source": [
    "# Corporate bond indices"
   ]
  },
  {
   "cell_type": "code",
   "execution_count": null,
   "metadata": {},
   "outputs": [],
   "source": [
    "def get_index(index_name, start):\n",
    "    url = f'https://iss.moex.com/iss/history/engines/stock/markets/index/securities/{index_name}.json?from={start}'\n",
    "    resp = requests.get(url).json()\n",
    "    df = pd.DataFrame(resp['history']['data'], columns=resp['history']['columns'])\n",
    "    return df[['TRADEDATE', 'CLOSE']]"
   ]
  },
  {
   "cell_type": "code",
   "execution_count": null,
   "metadata": {},
   "outputs": [],
   "source": [
    "df_1y = pd.DataFrame(columns = ['TRADEDATE', 'CLOSE'])\n",
    "df_3y = pd.DataFrame(columns = ['TRADEDATE', 'CLOSE'])\n",
    "df_5y = pd.DataFrame(columns = ['TRADEDATE', 'CLOSE'])\n",
    "df_33y = pd.DataFrame(columns = ['TRADEDATE', 'CLOSE'])"
   ]
  },
  {
   "cell_type": "code",
   "execution_count": null,
   "metadata": {},
   "outputs": [],
   "source": [
    "dates = pd.date_range(start='2015-01-01', end='2021-01-01', freq='50D')"
   ]
  },
  {
   "cell_type": "code",
   "execution_count": null,
   "metadata": {},
   "outputs": [],
   "source": [
    "for start in dates:\n",
    "    df_1y = df_1y.append(get_index('RUCBITR1Y', str(start).split()[0]), ignore_index=True)\n",
    "df_1y.columns = ['TRADEDATE', 'RUCBITR1Y']"
   ]
  },
  {
   "cell_type": "code",
   "execution_count": null,
   "metadata": {},
   "outputs": [],
   "source": [
    "for start in tqdm(dates):\n",
    "    df_3y = df_3y.append(get_index('RUCBTR3Y', str(start).split()[0]), ignore_index=True)\n",
    "df_3y.columns = ['TRADEDATE', 'RUCBTR3Y']"
   ]
  },
  {
   "cell_type": "code",
   "execution_count": null,
   "metadata": {},
   "outputs": [],
   "source": [
    "for start in tqdm(dates):\n",
    "    df_5y = df_5y.append(get_index('RUCBTR5Y', str(start).split()[0]), ignore_index=True)\n",
    "df_5y.columns = ['TRADEDATE', 'RUCBTR5Y']"
   ]
  },
  {
   "cell_type": "code",
   "execution_count": null,
   "metadata": {},
   "outputs": [],
   "source": [
    "for start in tqdm(dates):\n",
    "    df_33y = df_33y.append(get_index('RUCBITR3+', str(start).split()[0]), ignore_index=True)\n",
    "df_33y.columns = ['TRADEDATE', 'RUCBITR3+']"
   ]
  },
  {
   "cell_type": "markdown",
   "metadata": {},
   "source": [
    "# IMOEX"
   ]
  },
  {
   "cell_type": "code",
   "execution_count": null,
   "metadata": {},
   "outputs": [],
   "source": [
    "def get_index(index_name, start):\n",
    "    url = f'https://iss.moex.com/iss/history/engines/stock/markets/index/securities/{index_name}.json?from=2017-01-01&start={start}'\n",
    "    resp = requests.get(url).json()\n",
    "    df = pd.DataFrame(resp['history']['data'], columns=resp['history']['columns'])\n",
    "    return df[['TRADEDATE', 'CLOSE']]"
   ]
  },
  {
   "cell_type": "code",
   "execution_count": null,
   "metadata": {},
   "outputs": [],
   "source": [
    "df_imoex = pd.DataFrame()\n",
    "for start in tqdm(np.arange(0, 1200, 100)):\n",
    "    df_imoex = df_imoex.append(get_index('IMOEX', start))\n",
    "df_imoex.columns = ['TRADEDATE', 'IMOEX']"
   ]
  },
  {
   "cell_type": "markdown",
   "metadata": {},
   "source": [
    "## Data on floating coupons, buy-back options, secured bonds from RusBonds"
   ]
  },
  {
   "cell_type": "code",
   "execution_count": null,
   "metadata": {},
   "outputs": [],
   "source": [
    "from bs4 import BeautifulSoup\n",
    "\n",
    "import pandas as pd\n",
    "import numpy as np\n",
    "import time\n",
    "\n",
    "from selenium import webdriver\n",
    "from selenium.webdriver.common.keys import Keys\n",
    "from selenium.webdriver.common.by import By\n",
    "from selenium.webdriver.support.ui import WebDriverWait\n",
    "from selenium.webdriver.support import expected_conditions as EC\n",
    "from tqdm.notebook import tqdm"
   ]
  },
  {
   "cell_type": "code",
   "execution_count": null,
   "metadata": {},
   "outputs": [],
   "source": [
    "PATH = 'C:\\Program Files (x86)\\chromedriver.exe'"
   ]
  },
  {
   "cell_type": "code",
   "execution_count": null,
   "metadata": {},
   "outputs": [],
   "source": [
    "driver = webdriver.Chrome(PATH)"
   ]
  },
  {
   "cell_type": "code",
   "execution_count": null,
   "metadata": {},
   "outputs": [],
   "source": [
    "def get_info(isin):\n",
    "    path = f'Corp_data_new//{isin}.csv'\n",
    "    url = f'https://www.rusbonds.ru/srch_simple.asp?go=1&nick={isin}&emit=0&sec=0&status=&cat=0&per=0&rate=0&ctype=0&pvt=0&grnt=0&conv=0&amm=0&bpog=&epog=&brazm=&erazm=&bvip=&evip=&brep=&erep=&bemis=&eemis=&bstav=&estav=&bcvol=&ecvol=#rslt'\n",
    "\n",
    "    driver.get(url)\n",
    "    \n",
    "    try:\n",
    "        table = driver.find_element(By.CLASS_NAME, 'tbl_data.tbl_headgrid')\n",
    "    except:\n",
    "        pd.DataFrame([[isin, \"Not Found\", np.nan, np.nan, np.nan, np.nan, np.nan, np.nan, np.nan]]).to_csv(path, index=False)\n",
    "        return\n",
    "    \n",
    "    table.find_element(By.TAG_NAME, 'tbody').find_element(By.TAG_NAME, 'a').click()\n",
    "    \n",
    "    soup = BeautifulSoup(driver.page_source)\n",
    "    data = [i.text for i in soup.find(class_='tbl_data').find_all('tr')]\n",
    "    try:\n",
    "        issuer = soup.find('b', string='Эмитент:').parent.find('a').text\n",
    "    except:\n",
    "        issuer = np.nan\n",
    "    \n",
    "    secured = False\n",
    "    amort = False\n",
    "    early_1 = False\n",
    "    early_2 = False\n",
    "    coupon = False\n",
    "    period = False\n",
    "    extra = False\n",
    "    \n",
    "    for line in data:\n",
    "        if 'Обеспечение' in line:\n",
    "            secured = line\n",
    "        elif 'ПОГАШЕНИЕ' in line and 'ДОСРОЧН.' not in line:\n",
    "            amort = line\n",
    "        elif 'ДОСРОЧН.' in line:\n",
    "            early_1 = line\n",
    "        elif 'Возможность досрочного погашения' in line:\n",
    "            early_2 = line\n",
    "        elif 'КУПОН' in line:\n",
    "            coupon = line\n",
    "        elif 'Периодичность выплат в год' in line:\n",
    "            period = line\n",
    "        elif 'Примечание'in line:\n",
    "            extra = line\n",
    "            \n",
    "    if secured:\n",
    "        secured = ''.join(secured.split(':')[1].split(u'\\xa0')[:-1])\n",
    "    else:\n",
    "        secured = np.nan\n",
    "        \n",
    "    if amort:\n",
    "        amort = amort.split('-')[-1]\n",
    "    else:\n",
    "        amort = np.nan\n",
    "    \n",
    "    if early_1:\n",
    "        early_1 = 1\n",
    "    else:\n",
    "        early_1 = np.nan\n",
    "    \n",
    "    if coupon:\n",
    "        coupon = coupon.split('-')[-1]\n",
    "    else:\n",
    "        coupon = np.nan\n",
    "        \n",
    "    if period:\n",
    "        period = int(period.split(':')[-1])\n",
    "    else:\n",
    "        period = np.nan\n",
    "    \n",
    "    if not early_2:\n",
    "        early_2 = np.nan\n",
    "    \n",
    "    if not extra:\n",
    "        extra = np.nan\n",
    "        \n",
    "    sleep_time = np.random.randint(3, 8)\n",
    "    #time.sleep(sleep_time)\n",
    "        \n",
    "    pd.DataFrame([[isin, issuer, secured, amort, early_1, early_2, coupon, period, extra]]).to_csv(path, index=False)"
   ]
  },
  {
   "cell_type": "code",
   "execution_count": null,
   "metadata": {},
   "outputs": [],
   "source": [
    "for isin in tqdm(df_main['SECID'].unique()):\n",
    "    get_info(isin)"
   ]
  },
  {
   "cell_type": "markdown",
   "metadata": {},
   "source": [
    "# Data on defaults from RusBonds"
   ]
  },
  {
   "cell_type": "code",
   "execution_count": null,
   "metadata": {},
   "outputs": [],
   "source": [
    "from bs4 import BeautifulSoup\n",
    "\n",
    "import pandas as pd\n",
    "import numpy as np\n",
    "import time\n",
    "\n",
    "from selenium import webdriver\n",
    "from selenium.webdriver.common.keys import Keys\n",
    "from selenium.webdriver.common.by import By\n",
    "from selenium.webdriver.support.ui import WebDriverWait\n",
    "from selenium.webdriver.support import expected_conditions as EC\n",
    "from tqdm.notebook import tqdm"
   ]
  },
  {
   "cell_type": "code",
   "execution_count": null,
   "metadata": {},
   "outputs": [],
   "source": [
    "PATH = 'C:\\Program Files (x86)\\chromedriver.exe'"
   ]
  },
  {
   "cell_type": "code",
   "execution_count": null,
   "metadata": {},
   "outputs": [],
   "source": [
    "driver = webdriver.Chrome(PATH)"
   ]
  },
  {
   "cell_type": "code",
   "execution_count": null,
   "metadata": {},
   "outputs": [],
   "source": [
    "def find_default(isin):\n",
    "    url = f'https://www.rusbonds.ru/srch_simple.asp?go=1&nick={isin}&emit=0&sec=0&status=&cat=0&per=0&rate=0&ctype=0&pvt=0&grnt=0&conv=0&amm=0&bpog=&epog=&brazm=&erazm=&bvip=&evip=&brep=&erep=&bemis=&eemis=&bstav=&estav=&bcvol=&ecvol=#rslt'\n",
    "    driver.get(url)\n",
    "    \n",
    "    try:\n",
    "        table = driver.find_element(By.CLASS_NAME, 'tbl_data.tbl_headgrid')\n",
    "    except:\n",
    "        return pd.DataFrame([[isin, np.NaN, np.NaN, np.NaN, np.NaN, np.NaN, np.NaN]], \n",
    "                            columns=['SECID', 'Дата дефолта', 'Дата исполненияобязательств',\n",
    "       'Номер обязательства', 'Примечание', 'Тип дефолта',\n",
    "       'Тип неисполненныхобязательств'])\n",
    "    \n",
    "    table.find_element(By.TAG_NAME, 'tbody').find_element(By.TAG_NAME, 'a').click()\n",
    "    soup = BeautifulSoup(driver.page_source)\n",
    "    if soup.find('table', class_='tbl_data tbl_headgrid'):\n",
    "        \n",
    "        table_data = [i.text for i in soup.find('table', class_='tbl_data tbl_headgrid').find_all('td')[:-1]]\n",
    "        return pd.concat([pd.DataFrame([table_data[i:i+6] for i in range(6, len(table_data)-5, 6)], columns=table_data[:6]),\n",
    "               pd.DataFrame([isin for i in range(int((len(table_data)-6)/6))], columns=['SECID'])], axis=1)\n",
    "    else:\n",
    "        \n",
    "        return pd.DataFrame([[isin, np.NaN, np.NaN, np.NaN, np.NaN, np.NaN, 'No Default']],\n",
    "                           columns=['SECID', 'Дата дефолта', 'Дата исполненияобязательств',\n",
    "       'Номер обязательства', 'Примечание', 'Тип дефолта',\n",
    "       'Тип неисполненныхобязательств'])"
   ]
  },
  {
   "cell_type": "code",
   "execution_count": null,
   "metadata": {},
   "outputs": [],
   "source": [
    "default_data = pd.DataFrame()\n",
    "\n",
    "for isin in tqdm(df_main['SECID'].unique()):\n",
    "    default_data = default_data.append(find_default(isin), sort=True)"
   ]
  }
 ],
 "metadata": {
  "kernelspec": {
   "display_name": "Python 3",
   "language": "python",
   "name": "python3"
  },
  "language_info": {
   "codemirror_mode": {
    "name": "ipython",
    "version": 3
   },
   "file_extension": ".py",
   "mimetype": "text/x-python",
   "name": "python",
   "nbconvert_exporter": "python",
   "pygments_lexer": "ipython3",
   "version": "3.7.4"
  }
 },
 "nbformat": 4,
 "nbformat_minor": 2
}
